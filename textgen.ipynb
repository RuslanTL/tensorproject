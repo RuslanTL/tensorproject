{
  "cells": [
    {
      "cell_type": "code",
      "metadata": {},
      "source": [
        "import os\n",
        "import tensorflow as tf\n",
        "from tensorflow import keras\n",
        "from textgenrnn import textgenrnn\n",
        "\n",
        "os.environ['TF_CPP_MIN_LOG_LEVEL'] = '2'\n",
        "textgen = textgenrnn(weights_path='new_model_weights.hdf5',\n",
        "                       vocab_path='new_model_vocab.json',\n",
        "                       config_path='new_model_config.json')\n",
        "\n",
        "text = textgen.train_from_file('beatleslyrics.txt',\n",
        "                        new_model=False,\n",
        "                        rnn_bidirectional=True,\n",
        "                        rnn_size=64,\n",
        "                        dim_embeddings=300,\n",
        "                        num_epochs=10)\n"
      ],
      "outputs": [],
      "execution_count": null
    }
  ],
  "metadata": {
    "anaconda-cloud": {},
    "kernelspec": {
      "display_name": "Python 3",
      "language": "python",
      "name": "python3"
    },
    "language_info": {
      "codemirror_mode": {
        "name": "ipython",
        "version": 3
      },
      "file_extension": ".py",
      "mimetype": "text/x-python",
      "name": "python",
      "nbconvert_exporter": "python",
      "pygments_lexer": "ipython3",
      "version": "3.6.1"
    }
  },
  "nbformat": 4,
  "nbformat_minor": 1
}